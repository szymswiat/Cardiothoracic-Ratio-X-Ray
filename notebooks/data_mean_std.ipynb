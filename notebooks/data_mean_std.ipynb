{
 "cells": [
  {
   "cell_type": "code",
   "execution_count": null,
   "metadata": {
    "collapsed": true
   },
   "outputs": [],
   "source": [
    "from data.shenzen_cxr_dataset import ShenzenCXRDataset\n",
    "from pathlib import Path\n",
    "import progressbar as pb\n",
    "\n",
    "img_path = Path('/home/szymswiat/mount/szymswiat_ml/datasets/shenzen/CXR_png')\n",
    "mask_path = Path('/home/szymswiat/mount/szymswiat_ml/datasets/shenzen/our_annotations')\n",
    "\n",
    "\n",
    "df = ShenzenCXRDataset.get_dataset_df(img_path, mask_path)\n",
    "\n",
    "ds = ShenzenCXRDataset(df)"
   ]
  },
  {
   "cell_type": "code",
   "execution_count": null,
   "outputs": [],
   "source": [
    "px_sum = 0\n",
    "px_sum_sq = 0\n",
    "px_count = 0\n",
    "\n",
    "for d in pb.progressbar(ds):\n",
    "    px_sum += d.sum()\n",
    "    px_sum_sq += (d[0] ** 2).sum()\n",
    "\n",
    "    assert len(d.shape) == 2\n",
    "    px_count += d.shape.prod()"
   ],
   "metadata": {
    "collapsed": false,
    "pycharm": {
     "name": "#%%\n"
    }
   }
  },
  {
   "cell_type": "code",
   "execution_count": null,
   "outputs": [],
   "source": [
    "from math import sqrt\n",
    "\n",
    "mean = px_sum / px_count\n",
    "std = sqrt(px_sum_sq / px_count - mean ** 2)\n",
    "\n",
    "print(f'mean: {mean:.4f}')\n",
    "print(f'std : {std:.4f}')"
   ],
   "metadata": {
    "collapsed": false,
    "pycharm": {
     "name": "#%%\n"
    }
   }
  }
 ],
 "metadata": {
  "kernelspec": {
   "display_name": "Python 3",
   "language": "python",
   "name": "python3"
  },
  "language_info": {
   "codemirror_mode": {
    "name": "ipython",
    "version": 2
   },
   "file_extension": ".py",
   "mimetype": "text/x-python",
   "name": "python",
   "nbconvert_exporter": "python",
   "pygments_lexer": "ipython2",
   "version": "2.7.6"
  }
 },
 "nbformat": 4,
 "nbformat_minor": 0
}