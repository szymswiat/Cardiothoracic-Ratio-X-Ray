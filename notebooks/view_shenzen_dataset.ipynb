{
 "cells": [
  {
   "cell_type": "code",
   "execution_count": null,
   "metadata": {
    "collapsed": true
   },
   "outputs": [],
   "source": [
    "from data.shenzen_cxr_dataset import ShenzenCXRDataset\n",
    "from pathlib import Path\n",
    "\n",
    "img_path = Path('/home/szymswiat/mount/szymswiat_ml/datasets/shenzen/CXR_png')\n",
    "mask_path = Path('/home/szymswiat/mount/szymswiat_ml/datasets/shenzen/our_annotations')\n",
    "\n",
    "\n",
    "df = ShenzenCXRDataset.get_dataset_df(img_path, mask_path)\n",
    "\n",
    "ds = ShenzenCXRDataset(df)"
   ]
  },
  {
   "cell_type": "code",
   "execution_count": null,
   "outputs": [],
   "source": [
    "img, mask = ds[0]\n"
   ],
   "metadata": {
    "collapsed": false,
    "pycharm": {
     "name": "#%%\n"
    }
   }
  },
  {
   "cell_type": "code",
   "execution_count": null,
   "outputs": [],
   "source": [
    "from imageio.plugins.pillow import ndarray_to_pil\n",
    "\n",
    "ndarray_to_pil(img)\n",
    "\n",
    "\n",
    "\n"
   ],
   "metadata": {
    "collapsed": false,
    "pycharm": {
     "name": "#%%\n"
    }
   }
  }
 ],
 "metadata": {
  "kernelspec": {
   "display_name": "Python 3",
   "language": "python",
   "name": "python3"
  },
  "language_info": {
   "codemirror_mode": {
    "name": "ipython",
    "version": 2
   },
   "file_extension": ".py",
   "mimetype": "text/x-python",
   "name": "python",
   "nbconvert_exporter": "python",
   "pygments_lexer": "ipython2",
   "version": "2.7.6"
  }
 },
 "nbformat": 4,
 "nbformat_minor": 0
}